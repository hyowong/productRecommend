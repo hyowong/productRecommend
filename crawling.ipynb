{
 "cells": [
  {
   "cell_type": "markdown",
   "metadata": {},
   "source": [
    "### 상세 페이지에서 크롤링 할 정보\n",
    "\n",
    "1. 스냅샷 \n",
    "<img src=\"https://image.musinsa.com/mfile_s01/_street_images/51263/800.street_5c94a6a2d06aa.jpg?20190322182728\" width=400>\n",
    "2. 관련 정보 \n",
    "<img src=\"https://www.dropbox.com/s/3edp92aczpiiwhl/Screenshot%202019-03-25%2013.00.28.png?raw=1\" width=400>\n",
    "3. 연결된 제품 \n",
    "<img src=\"https://www.dropbox.com/s/qhkjwieb5fzjue6/Screenshot%202019-03-25%2013.01.31.png?raw=1\" width=400>"
   ]
  },
  {
   "cell_type": "code",
   "execution_count": 6,
   "metadata": {},
   "outputs": [],
   "source": [
    "import requests \n",
    "from bs4 import BeautifulSoup\n",
    "import os\n",
    "\n",
    "from sub_crawler import *"
   ]
  },
  {
   "cell_type": "code",
   "execution_count": 3,
   "metadata": {},
   "outputs": [
    {
     "name": "stdout",
     "output_type": "stream",
     "text": [
      "Collecting selenium\n",
      "\u001b[?25l  Downloading https://files.pythonhosted.org/packages/80/d6/4294f0b4bce4de0abf13e17190289f9d0613b0a44e5dd6a7f5ca98459853/selenium-3.141.0-py2.py3-none-any.whl (904kB)\n",
      "\u001b[K    100% |████████████████████████████████| 911kB 8.5MB/s eta 0:00:01\n",
      "\u001b[?25hRequirement already satisfied: urllib3 in /home/dockeruser/anaconda3/lib/python3.6/site-packages (from selenium) (1.23)\n",
      "Installing collected packages: selenium\n",
      "Successfully installed selenium-3.141.0\n"
     ]
    }
   ],
   "source": [
    "!pip install selenium"
   ]
  },
  {
   "cell_type": "code",
   "execution_count": 5,
   "metadata": {},
   "outputs": [],
   "source": [
    "def login_info():\n",
    "\n",
    "    id_value = str(input())\n",
    "    pw_value = str(input())\n",
    "    \n",
    "    return {\"id\" : id_value, \"pw\": pw_value}    \n",
    "\n",
    "def page_scrapper(page_number):\n",
    "    \"\"\"\n",
    "    scrapping a given page \n",
    "    \n",
    "    argument : 해당 페이지 번호\n",
    "    \n",
    "    return : 페이지 내의 사진 엘리먼트 리스트  \n",
    "    \"\"\"\n",
    "    global info \n",
    "    info = login_info()\n",
    "    url = \"https://www.musinsa.com/index.php?m=street&_mon=&p={}#listStart\".format(page_number)\n",
    "    res = requests.session().post(url, data=info) \n",
    "    # raise error if response != 200 \n",
    "    res.raise_for_status() \n",
    "    return BeautifulSoup(res.content, 'html.parser').select(\"div .articleImg\")\n",
    "    \n",
    "    \n",
    "def pic_link_parser(picture):\n",
    "    picture.select_one(\"a\")['href'].strip()\n",
    "    base_url = \"https://www.musinsa.com\"\n",
    "    return base_url + picture.select_one(\"a\")['href'].strip()\n",
    "\n",
    "\n",
    "def image_download(download_link, title, path):\n",
    "    \n",
    "    download_link = \"http:\" + download_link\n",
    "    res = requests.get(download_link, stream=True)\n",
    "    path += \"/{}\".format(title)\n",
    "    \n",
    "    with open(path, 'wb') as f:\n",
    "        \n",
    "        for chunk in res.iter_content(chunk_size=1024): \n",
    "            if chunk:\n",
    "                f.write(chunk)\n",
    "    return"
   ]
  },
  {
   "cell_type": "code",
   "execution_count": 5,
   "metadata": {},
   "outputs": [
    {
     "name": "stdout",
     "output_type": "stream",
     "text": [
      "donotlose89\n",
      "anfkzkal8992\n"
     ]
    }
   ],
   "source": [
    "page_number = 1 \n",
    "\n",
    "pages = page_scrapper(page_number)\n",
    "spec_urls = list(map(pic_link_parser, pages))"
   ]
  },
  {
   "cell_type": "markdown",
   "metadata": {},
   "source": [
    "### 하나의 사진에 연결된 아이템 데이터"
   ]
  },
  {
   "cell_type": "code",
   "execution_count": null,
   "metadata": {},
   "outputs": [],
   "source": [
    "def get_styleInfo(soup):\n",
    "    \"\"\"\n",
    "    스냅샷의 정보 와 관련 태그 \n",
    "    \"\"\"\n",
    "    values = list(map(lambda x : x.text, soup.select_one(\"table\").select(\"td > span\")))\n",
    "    keys = list(map(lambda x : x.text, soup.select_one(\"table\").select(\"th > span\")))\n",
    "    \n",
    "    related_tags = list(map(lambda x : x.text, soup.select_one(\"table\").select(\".listItem span\")))\n",
    "    \n",
    "    infoDict = {k : v for k, v in zip(keys, values)}\n",
    "    \n",
    "    return infoDict, related_tags\n",
    "\n",
    "def Item_spec(spec_url):\n",
    "    \"\"\"\n",
    "    하나의 스냅샷 상세페이지에서 해당 사진과 연관된 패션아이템을 크롤링\n",
    "\n",
    "    \"\"\"\n",
    "    res = requests.session().post(spec_url, data=info)\n",
    "    soup = BeautifulSoup(res.content, 'html.parser')\n",
    "    # 스냅샷 정보 \n",
    "    style_info, related_tags = get_styleInfo(soup)\n",
    "    # 스냅샷 이미지 \n",
    "    soup.select_one(\"div > .styleItem-list\").select(\".itemImg\")\n",
    "    "
   ]
  },
  {
   "cell_type": "code",
   "execution_count": null,
   "metadata": {},
   "outputs": [],
   "source": [
    "# snap shot "
   ]
  },
  {
   "cell_type": "code",
   "execution_count": null,
   "metadata": {},
   "outputs": [],
   "source": []
  },
  {
   "cell_type": "code",
   "execution_count": 47,
   "metadata": {},
   "outputs": [],
   "source": [
    "# 세부 정보 "
   ]
  },
  {
   "cell_type": "code",
   "execution_count": 75,
   "metadata": {
    "scrolled": false
   },
   "outputs": [
    {
     "data": {
      "text/plain": [
       "[<div class=\"itemImg\">\n",
       " <a class=\"lbox img_st_view2\" href=\"//image.musinsa.com/mfile_s01/_street_images/51263/800.street_img_view15c94a6af8d657.jpg?20190322182728\" title=\"동대문_김희연_9S Piping Hood Jumpe-메인부스\"><img alt=\"동대문_김희연_9S Piping Hood Jumpe-메인부스\" src=\"//image.musinsa.com/mfile_s01/_street_images/51263/280.street_img_view15c94a6af8d657.jpg?20190322182728\"/></a>\n",
       " <div class=\"itemInfo\">\n",
       " <p class=\"title\">\n",
       " \t\t\t\t\t\t\t\t\t\t메인부스의 9S 피핑 후드 점퍼\t\t\t\t\t\t\t\t\t</p>\n",
       " <ul class=\"article-tag-list list\">\n",
       " <li class=\"listItem\"><a href=\"/?m=street&amp;tag=9S Piping Hood Jumpe\"><span>9S Piping Hood Jumpe</span></a></li><li class=\"listItem\"><a href=\"/?m=street&amp;tag=메인부스\"><span>메인부스</span></a></li>\n",
       " <li class=\"listItem tagGray\"><a href=\"/?m=street&amp;ptype=2\"><span>아우터</span></a></li><li class=\"listItem tagGray\"><a href=\"/?m=street&amp;color=6\"><span>녹색</span></a></li>\n",
       " </ul>\n",
       " </div>\n",
       " </div>, <div class=\"itemImg\">\n",
       " <a class=\"lbox img_st_view2\" href=\"//image.musinsa.com/mfile_s01/_street_images/51263/800.street_img_view25c94a6badebb8.jpg?20190322182728\" title=\"동대문_김희연_Apple T-shirt-메인부스\"><img alt=\"동대문_김희연_Apple T-shirt-메인부스\" src=\"//image.musinsa.com/mfile_s01/_street_images/51263/280.street_img_view25c94a6badebb8.jpg?20190322182728\"/></a>\n",
       " <div class=\"itemInfo\">\n",
       " <p class=\"title\">\n",
       " \t\t\t\t\t\t\t\t\t\t메인부스의 애플 티셔츠\t\t\t\t\t\t\t\t\t</p>\n",
       " <ul class=\"article-tag-list list\">\n",
       " <li class=\"listItem\"><a href=\"/?m=street&amp;tag=Apple T-shirt\"><span>Apple T-shirt</span></a></li><li class=\"listItem\"><a href=\"/?m=street&amp;tag=메인부스\"><span>메인부스</span></a></li>\n",
       " <li class=\"listItem tagGray\"><a href=\"/?m=street&amp;ptype=1\"><span>상의</span></a></li><li class=\"listItem tagGray\"><a href=\"/?m=street&amp;color=1\"><span>흰색</span></a></li>\n",
       " </ul>\n",
       " </div>\n",
       " </div>, <div class=\"itemImg\">\n",
       " <a class=\"lbox img_st_view2\" href=\"//image.musinsa.com/mfile_s01/_street_images/51263/800.street_img_view35c94a6c8a2027.jpg?20190322182728\" title=\"동대문_김희연_9S Piping Skirt-메인부스\"><img alt=\"동대문_김희연_9S Piping Skirt-메인부스\" src=\"//image.musinsa.com/mfile_s01/_street_images/51263/280.street_img_view35c94a6c8a2027.jpg?20190322182728\"/></a>\n",
       " <div class=\"itemInfo\">\n",
       " <p class=\"title\">\n",
       " \t\t\t\t\t\t\t\t\t\t메인부스의 9S 피핑 스커트\t\t\t\t\t\t\t\t\t</p>\n",
       " <ul class=\"article-tag-list list\">\n",
       " <li class=\"listItem\"><a href=\"/?m=street&amp;tag=9S Piping Skirt\"><span>9S Piping Skirt</span></a></li><li class=\"listItem\"><a href=\"/?m=street&amp;tag=메인부스\"><span>메인부스</span></a></li>\n",
       " <li class=\"listItem tagGray\"><a href=\"/?m=street&amp;ptype=3\"><span>하의</span></a></li><li class=\"listItem tagGray\"><a href=\"/?m=street&amp;color=5\"><span>베이지색</span></a></li>\n",
       " </ul>\n",
       " </div>\n",
       " </div>]"
      ]
     },
     "execution_count": 75,
     "metadata": {},
     "output_type": "execute_result"
    }
   ],
   "source": [
    "# \n",
    "soup.select_one(\"div > .styleItem-list\").select(\".itemImg\") # 이 것의 갯수가 0이면 넘어가는 조건 문 "
   ]
  },
  {
   "cell_type": "code",
   "execution_count": 107,
   "metadata": {},
   "outputs": [
    {
     "data": {
      "text/plain": [
       "'//image.musinsa.com/mfile_s01/_street_images/51263/800.street_img_view15c94a6af8d657.jpg?20190322182728'"
      ]
     },
     "execution_count": 107,
     "metadata": {},
     "output_type": "execute_result"
    }
   ],
   "source": [
    "# img link \n",
    "soup.select_one(\"div > .styleItem-list\").select(\".itemImg\")[0].select(\"a\")[0][\"href\"]"
   ]
  },
  {
   "cell_type": "code",
   "execution_count": 112,
   "metadata": {},
   "outputs": [
    {
     "data": {
      "text/plain": [
       "'메인부스의 9S 피핑 후드 점퍼'"
      ]
     },
     "execution_count": 112,
     "metadata": {},
     "output_type": "execute_result"
    }
   ],
   "source": [
    "# product title \n",
    "soup.select_one(\"div > .styleItem-list\").select(\".itemImg\")[0].select('p')[0].text.strip()"
   ]
  },
  {
   "cell_type": "code",
   "execution_count": 116,
   "metadata": {},
   "outputs": [
    {
     "data": {
      "text/plain": [
       "['9S Piping Hood Jumpe', '메인부스', '아우터', '녹색']"
      ]
     },
     "execution_count": 116,
     "metadata": {},
     "output_type": "execute_result"
    }
   ],
   "source": [
    "# tag list\n",
    "list(map(lambda x : x.text, soup.select_one(\"div > .styleItem-list\").select(\".itemImg\")[0].select(\"ul > li\")))"
   ]
  },
  {
   "cell_type": "code",
   "execution_count": null,
   "metadata": {},
   "outputs": [],
   "source": [
    "# selenium"
   ]
  },
  {
   "cell_type": "code",
   "execution_count": 117,
   "metadata": {},
   "outputs": [
    {
     "data": {
      "text/plain": [
       "'https://www.musinsa.com/index.php?m=street&p=1&uid=51263'"
      ]
     },
     "execution_count": 117,
     "metadata": {},
     "output_type": "execute_result"
    }
   ],
   "source": [
    "spec_urls[0]"
   ]
  }
 ],
 "metadata": {
  "kernelspec": {
   "display_name": "Python 3",
   "language": "python",
   "name": "python3"
  },
  "language_info": {
   "codemirror_mode": {
    "name": "ipython",
    "version": 3
   },
   "file_extension": ".py",
   "mimetype": "text/x-python",
   "name": "python",
   "nbconvert_exporter": "python",
   "pygments_lexer": "ipython3",
   "version": "3.6.6"
  }
 },
 "nbformat": 4,
 "nbformat_minor": 2
}
