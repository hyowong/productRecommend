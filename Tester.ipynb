{
 "cells": [
  {
   "cell_type": "markdown",
   "metadata": {},
   "source": [
    "## shufflenet v2 implementation "
   ]
  },
  {
   "cell_type": "code",
   "execution_count": 1,
   "metadata": {},
   "outputs": [
    {
     "name": "stderr",
     "output_type": "stream",
     "text": [
      "Using TensorFlow backend.\n"
     ]
    }
   ],
   "source": [
    "# -*- coding: utf_8 -*-\n",
    "import os\n",
    "import cv2\n",
    "import pickle\n",
    "import tensorflow as tf\n",
    "import math\n",
    "import numpy as np\n",
    "import keras\n",
    "from keras.callbacks import ReduceLROnPlateau\n",
    "from keras import backend as K\n",
    "from keras.engine.input_layer import Input\n",
    "from keras.models import Model\n",
    "\n",
    "from keras.layers import Conv2D, MaxPooling2D, Flatten, Dense, Dropout\n",
    "from keras.layers import BatchNormalization, Lambda, AveragePooling2D\n",
    "from keras.layers import GlobalAveragePooling2D, Activation, concatenate\n",
    "from keras.regularizers import l2\n",
    "from keras.utils import multi_gpu_model"
   ]
  },
  {
   "cell_type": "code",
   "execution_count": 4,
   "metadata": {},
   "outputs": [
    {
     "name": "stderr",
     "output_type": "stream",
     "text": [
      "/Users/MAC/.pyenv/versions/anaconda3-5.1.0/lib/python3.6/site-packages/keras_applications/resnet50.py:265: UserWarning: The output shape of `ResNet50(include_top=False)` has been changed since Keras 2.2.0.\n",
      "  warnings.warn('The output shape of `ResNet50(include_top=False)` '\n"
     ]
    }
   ],
   "source": [
    "backbone = keras.applications.ResNet50(input_shape=(256,256,3), include_top=False)"
   ]
  },
  {
   "cell_type": "code",
   "execution_count": 28,
   "metadata": {},
   "outputs": [],
   "source": [
    "def gcd_model(input_shape, num_classes=None):\n",
    "    \"\"\"\n",
    "    backbone model : ResNet50\n",
    "    \n",
    "    descriptor dim : 1024 (512 * 2) \n",
    "    \"\"\"\n",
    "    model = keras.applications.ResNet50(input_shape=input_shape, include_top=False)\n",
    "\n",
    "    gd1 = GlobalAveragePooling2D()(model.layers[-1].output)\n",
    "    gd2 = GlobalGeMPooling2D()(model.layers[-1].output)\n",
    " \n",
    "    des1 = Dense(512, activation='elu', kernel_regularizer='l2')(gd1)\n",
    "    des2 = Dense(512, activation='elu', kernel_regularizer='l2')(gd2)\n",
    "    \n",
    "    aux = Dense(num_classes, activation='softmax')(des1)\n",
    "    \n",
    "    con = concatenate([des1, des2])\n",
    "    cos = CosineTheta(num_classes, 512*2)(con)\n",
    "\n",
    "    model_new = Model(inputs=model.input, outputs=[aux, cos])\n",
    "\n",
    "    return model_new"
   ]
  },
  {
   "cell_type": "code",
   "execution_count": 25,
   "metadata": {},
   "outputs": [],
   "source": [
    "from keras.engine.base_layer import InputSpec, Layer\n",
    "from keras.utils import conv_utils\n",
    "from keras.legacy import interfaces\n",
    "\n",
    "class _GlobalPooling2D(Layer):\n",
    "    \"\"\"Abstract class for different global pooling 2D layers.\n",
    "    \"\"\"\n",
    "\n",
    "    @interfaces.legacy_global_pooling_support\n",
    "    def __init__(self, data_format=None, **kwargs):\n",
    "        super(_GlobalPooling2D, self).__init__(**kwargs)\n",
    "        self.data_format = K.normalize_data_format(data_format)\n",
    "        self.input_spec = InputSpec(ndim=4)\n",
    "        self.pk = K.variable(value=2., dtype='float')\n",
    "\n",
    "    def compute_output_shape(self, input_shape):\n",
    "        if self.data_format == 'channels_last':\n",
    "            return (input_shape[0], input_shape[3])\n",
    "        else:\n",
    "            return (input_shape[0], input_shape[1])\n",
    "\n",
    "    def call(self, inputs):\n",
    "        raise NotImplementedError\n",
    "\n",
    "    def get_config(self):\n",
    "        config = {'data_format': self.data_format}\n",
    "        base_config = super(_GlobalPooling2D, self).get_config()\n",
    "        return dict(list(base_config.items()) + list(config.items()))\n",
    "\n",
    "\n",
    "class GlobalGeMPooling2D(_GlobalPooling2D):\n",
    "    \"\"\"Global average pooling operation for spatial data.\n",
    "    # Arguments\n",
    "        data_format: A string,\n",
    "            one of `channels_last` (default) or `channels_first`.\n",
    "            The ordering of the dimensions in the inputs.\n",
    "            `channels_last` corresponds to inputs with shape\n",
    "            `(batch, height, width, channels)` while `channels_first`\n",
    "            corresponds to inputs with shape\n",
    "            `(batch, channels, height, width)`.\n",
    "            It defaults to the `image_data_format` value found in your\n",
    "            Keras config file at `~/.keras/keras.json`.\n",
    "            If you never set it, then it will be \"channels_last\".\n",
    "    # Input shape\n",
    "        - If `data_format='channels_last'`:\n",
    "            4D tensor with shape:\n",
    "            `(batch_size, rows, cols, channels)`\n",
    "        - If `data_format='channels_first'`:\n",
    "            4D tensor with shape:\n",
    "            `(batch_size, channels, rows, cols)`\n",
    "    # Output shape\n",
    "        2D tensor with shape:\n",
    "        `(batch_size, channels)`\n",
    "    \"\"\"\n",
    "\n",
    "    def call(self, inputs):\n",
    "        if self.data_format == 'channels_last':\n",
    "            return K.pow(K.mean(K.pow(inputs, self.pk), axis=[1, 2]), 1/self.pk)\n",
    "        else:\n",
    "            return K.pow(K.mean(K.pow(inputs, self.pk), axis=[2, 3]), 1/self.pk)\n"
   ]
  },
  {
   "cell_type": "code",
   "execution_count": null,
   "metadata": {},
   "outputs": [],
   "source": [
    "keras.callbacks.TensorBoard(log_dir=\"./logs/\", update_freq='batch')"
   ]
  }
 ],
 "metadata": {
  "kernelspec": {
   "display_name": "Python 3",
   "language": "python",
   "name": "python3"
  },
  "language_info": {
   "codemirror_mode": {
    "name": "ipython",
    "version": 3
   },
   "file_extension": ".py",
   "mimetype": "text/x-python",
   "name": "python",
   "nbconvert_exporter": "python",
   "pygments_lexer": "ipython3",
   "version": "3.6.8"
  }
 },
 "nbformat": 4,
 "nbformat_minor": 2
}
