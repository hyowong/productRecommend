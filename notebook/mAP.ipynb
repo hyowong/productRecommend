{
 "cells": [
  {
   "cell_type": "code",
   "execution_count": 61,
   "metadata": {},
   "outputs": [
    {
     "data": {
      "text/html": [
       "<div>\n",
       "<style scoped>\n",
       "    .dataframe tbody tr th:only-of-type {\n",
       "        vertical-align: middle;\n",
       "    }\n",
       "\n",
       "    .dataframe tbody tr th {\n",
       "        vertical-align: top;\n",
       "    }\n",
       "\n",
       "    .dataframe thead th {\n",
       "        text-align: right;\n",
       "    }\n",
       "</style>\n",
       "<table border=\"1\" class=\"dataframe\">\n",
       "  <thead>\n",
       "    <tr style=\"text-align: right;\">\n",
       "      <th></th>\n",
       "      <th>Part_snap</th>\n",
       "      <th>Part_tag</th>\n",
       "      <th>Snapshot</th>\n",
       "      <th>recommend_item</th>\n",
       "      <th>tags</th>\n",
       "      <th>게시일</th>\n",
       "      <th>관련 브랜드</th>\n",
       "      <th>스타일</th>\n",
       "      <th>이름(나이)</th>\n",
       "      <th>직업</th>\n",
       "      <th>촬영일</th>\n",
       "      <th>촬영지역</th>\n",
       "      <th>특집분류</th>\n",
       "      <th>related_items</th>\n",
       "    </tr>\n",
       "  </thead>\n",
       "  <tbody>\n",
       "    <tr>\n",
       "      <th>299</th>\n",
       "      <td>299_0_part.png 299_1_part.png 299_2_part.png</td>\n",
       "      <td>재킷/카키/아우터/녹색&amp;데님팬츠/하의/데님&amp;부츠/블랙/신발/검정색</td>\n",
       "      <td>299_snap.png</td>\n",
       "      <td>299_0_reco.png 299_1_reco.png 299_2_reco.png 2...</td>\n",
       "      <td>남자 니트 재킷 데님팬츠 부츠</td>\n",
       "      <td>2019-02-26</td>\n",
       "      <td>349 / 0 / 0</td>\n",
       "      <td>워크/밀리터리</td>\n",
       "      <td>이영진 (24)</td>\n",
       "      <td>학생</td>\n",
       "      <td>2019-02-26</td>\n",
       "      <td>홍대/신촌</td>\n",
       "      <td>NaN</td>\n",
       "      <td>299_0_part.png 299_1_part.png 299_2_part.png 2...</td>\n",
       "    </tr>\n",
       "  </tbody>\n",
       "</table>\n",
       "</div>"
      ],
      "text/plain": [
       "                                        Part_snap  \\\n",
       "299  299_0_part.png 299_1_part.png 299_2_part.png   \n",
       "\n",
       "                                 Part_tag      Snapshot  \\\n",
       "299  재킷/카키/아우터/녹색&데님팬츠/하의/데님&부츠/블랙/신발/검정색  299_snap.png   \n",
       "\n",
       "                                        recommend_item              tags  \\\n",
       "299  299_0_reco.png 299_1_reco.png 299_2_reco.png 2...  남자 니트 재킷 데님팬츠 부츠   \n",
       "\n",
       "            게시일       관련 브랜드      스타일    이름(나이)  직업         촬영일   촬영지역 특집분류  \\\n",
       "299  2019-02-26  349 / 0 / 0  워크/밀리터리  이영진 (24)  학생  2019-02-26  홍대/신촌  NaN   \n",
       "\n",
       "                                         related_items  \n",
       "299  299_0_part.png 299_1_part.png 299_2_part.png 2...  "
      ]
     },
     "execution_count": 61,
     "metadata": {},
     "output_type": "execute_result"
    }
   ],
   "source": [
    "df = pd.read_csv(\"../data/test/test.csv\")\n",
    "df.tail(1)"
   ]
  },
  {
   "cell_type": "code",
   "execution_count": 50,
   "metadata": {},
   "outputs": [],
   "source": [
    "related_items = [] \n",
    "\n",
    "for x in df.Part_snap:\n",
    "    related_items.append(str(x).split())"
   ]
  },
  {
   "cell_type": "code",
   "execution_count": 51,
   "metadata": {},
   "outputs": [],
   "source": [
    "for i, recos in enumerate(df.recommend_item):\n",
    "    res = recos.split(\"&\")\n",
    "    for r in res :\n",
    "        related_items[i] += r.split()"
   ]
  },
  {
   "cell_type": "code",
   "execution_count": 62,
   "metadata": {},
   "outputs": [
    {
     "data": {
      "text/plain": [
       "[['0_0_part.png',\n",
       "  '0_0_reco.png',\n",
       "  '0_1_reco.png',\n",
       "  '0_2_reco.png',\n",
       "  '0_3_reco.png',\n",
       "  '0_4_reco.png',\n",
       "  '0_5_reco.png']]"
      ]
     },
     "execution_count": 62,
     "metadata": {},
     "output_type": "execute_result"
    }
   ],
   "source": [
    "related_items[:1]"
   ]
  },
  {
   "cell_type": "code",
   "execution_count": 54,
   "metadata": {},
   "outputs": [],
   "source": [
    "df[\"related_items\"] = [(\" \").join(i) for i in related_items]\n",
    "df.to_csv(\"../data/test/test.csv\", index=False)"
   ]
  },
  {
   "cell_type": "code",
   "execution_count": 56,
   "metadata": {},
   "outputs": [
    {
     "data": {
      "text/plain": [
       "str"
      ]
     },
     "execution_count": 56,
     "metadata": {},
     "output_type": "execute_result"
    }
   ],
   "source": [
    "df = pd.read_csv(\"../data/test/test.csv\")\n",
    "type(df.related_items[1])"
   ]
  },
  {
   "cell_type": "code",
   "execution_count": 66,
   "metadata": {},
   "outputs": [],
   "source": [
    "def splits(x):\n",
    "    return x.split(\" \")"
   ]
  },
  {
   "cell_type": "code",
   "execution_count": 67,
   "metadata": {},
   "outputs": [
    {
     "data": {
      "image/png": "[encoded data removed]",
      "text/plain": [
       "<Figure size 432x288 with 1 Axes>"
      ]
     },
     "metadata": {
      "needs_background": "light"
     },
     "output_type": "display_data"
    }
   ],
   "source": [
    "sns.countplot(df.related_items.apply(splits).apply(len))\n",
    "plt.title(\"연관 아이템 갯수의 분포\")\n",
    "plt.show()"
   ]
  },
  {
   "cell_type": "code",
   "execution_count": 41,
   "metadata": {},
   "outputs": [],
   "source": [
    "def mAP(results, k=13):\n",
    "    \n",
    "    truths = pd.read_csv(\"./data/test/test.csv\").related_items\n",
    "    \n",
    "    aps = []\n",
    "    \n",
    "    for i, truth in enumerate(truths):\n",
    "        \n",
    "        if len(truth) < k:\n",
    "            result = results[i][:len(truth)]\n",
    "        else: \n",
    "            result = results[i][:k]\n",
    "            truth = truth[:k]\n",
    "        \n",
    "        # AP 계산\n",
    "        correct = 0\n",
    "        precisions = [] \n",
    "        for i, (r, t) in enumerate(zip(result, truth)):\n",
    "            if r == t:\n",
    "                correct += 1\n",
    "                precision = (correct) / (i + 1)\n",
    "                precisions.append(precision)\n",
    "                \n",
    "            else : \n",
    "                continue\n",
    "            \n",
    "        aps.append(np.mean(precisions))   \n",
    "        \n",
    "    return np.mean(aps)     "
   ]
  }
 ],
 "metadata": {
  "kernelspec": {
   "display_name": "Python 3",
   "language": "python",
   "name": "python3"
  },
  "language_info": {
   "codemirror_mode": {
    "name": "ipython",
    "version": 3
   },
   "file_extension": ".py",
   "mimetype": "text/x-python",
   "name": "python",
   "nbconvert_exporter": "python",
   "pygments_lexer": "ipython3",
   "version": "3.6.8"
  }
 },
 "nbformat": 4,
 "nbformat_minor": 2
}
